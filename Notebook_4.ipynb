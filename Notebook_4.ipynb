{
 "cells": [
  {
   "cell_type": "markdown",
   "metadata": {},
   "source": [
    "<img style=\"center\" width=\"300\" src=\"static/images/logo-training.png\" />\n",
    "\n",
    "<h1  style=\"text-align:center\"> Notebook #4 </h1>"
   ]
  },
  {
   "cell_type": "markdown",
   "metadata": {},
   "source": [
    "<h1>Feature engineering</h1>\n",
    "<img width=\"600\" src=\"https://api.ning.com/files/ewwzspTVVqZ7yGyi4JAL8UaSr7FgAFg4HhNKRKM51v3ofDqR0VcBGJkio9C6je8BKC7DeCrxiZ91hpB0c*C6RlNOd04RPyK2/powertools.png\" />\n",
    "\n",
    "In this notebook we will learn how to create new features and deal with categorical variables.\n",
    "Some models are able to deal with categorical variable, you will discover it in the next notebook.\n",
    "Here we will show you how to transform the data to make it usable by a logistic regression. Indeed, \"numerical\" models, such as the logistic regression can only work with digits, and nothing else. We need to find a way to transform categorical features (namely, <code>Country</code>, <code>Campain</code> and <code>gender</code>) into numerical ones.\n",
    "\n",
    "\n",
    "<p>\n",
    "    \n",
    "</p>"
   ]
  },
  {
   "cell_type": "code",
   "execution_count": null,
   "metadata": {
    "collapsed": true
   },
   "outputs": [],
   "source": [
    "#We import the usuals packages and the model from sklearn \n",
    "import pandas as pd\n",
    "import numpy as np\n",
    "import matplotlib.pyplot as pp"
   ]
  },
  {
   "cell_type": "code",
   "execution_count": null,
   "metadata": {
    "collapsed": true
   },
   "outputs": [],
   "source": [
    "dataset = pd.read_csv(\"./data/customerLifetimeValue.csv\", sep=\";\")\n",
    "#We take the columns we need for our models and get the underlying matrix\n",
    "X_numeric = dataset[[\"price_first_item_purchased\", \"pages_visited\"]].copy()\n",
    "#We also take a categorical variable\n",
    "X_categorical = dataset[\"Country\"].copy()\n",
    "#and we create a new feature and add it to the X_numeric DataFrame\n",
    "X_numeric = X_numeric.assign(priceByVisited_pages = X_numeric[\"price_first_item_purchased\"]/X_numeric[\"pages_visited\"])\n",
    "#We binarize the target, all value greater than a given revenue will become positive (1), other negative(0)\n",
    "Y = dataset[\"revenue\"].apply(lambda x: 0 if x <= 175 else 1).values"
   ]
  },
  {
   "cell_type": "code",
   "execution_count": null,
   "metadata": {
    "collapsed": true
   },
   "outputs": [],
   "source": [
    "from sklearn.preprocessing import LabelBinarizer\n",
    "#We fill missing categorical value with \"unknown\"\n",
    "X_categorical.fillna(\"unknown\", inplace=True)\n",
    "my_binarizer = LabelBinarizer()\n",
    "binarized_categories = my_binarizer.fit_transform(X_categorical)"
   ]
  },
  {
   "cell_type": "markdown",
   "metadata": {},
   "source": [
    "This is how to convert categorical variables to numerical variables : each distinct category valuehas a column. For all other category we fill value with 0 except for the right one we fill with a 1."
   ]
  },
  {
   "cell_type": "code",
   "execution_count": null,
   "metadata": {
    "collapsed": true
   },
   "outputs": [],
   "source": [
    "#To avoid computation problems, we need to drop one column of the binarized categories matrix.\n",
    "#All estimated coefficients will be relative to the category we dropped\n",
    "binarized_categories = binarized_categories[:, 1:]\n",
    "#then we concatenate the matrix with the numerical variables\n",
    "X = np.hstack([X_numeric.values, binarized_categories])\n"
   ]
  },
  {
   "cell_type": "markdown",
   "metadata": {},
   "source": [
    "<p>\n",
    "A new data set has been produces, it contains the following features :\n",
    "    <ul>\n",
    "        <li><code>price_frist_item_purchased</code> and <code>pages_visited</code></li>\n",
    "        <li><code>Country</code> that has been encoded as as many features as distinct values (one column per possible value)\n",
    "        <li><code>priveByVisitedPages</code> the feature we created</li>\n",
    "    </ul>\n",
    " </p>\n",
    " \n",
    "<p>\n",
    "    Creating new features is a solid way to improve a model's performance :\n",
    "</p>"
   ]
  },
  {
   "cell_type": "code",
   "execution_count": null,
   "metadata": {
    "collapsed": false
   },
   "outputs": [],
   "source": [
    "#We create test and train datasets\n",
    "from sklearn.model_selection import train_test_split\n",
    "from sklearn.linear_model import LogisticRegression\n",
    "X_train, X_test, y_train, y_test = train_test_split(X, Y, test_size=0.33, random_state=1337)\n",
    "model = LogisticRegression()\n",
    "model.fit(X_train, y_train)"
   ]
  },
  {
   "cell_type": "code",
   "execution_count": null,
   "metadata": {
    "collapsed": false
   },
   "outputs": [],
   "source": [
    "from sklearn.metrics import roc_auc_score\n",
    "train_score = roc_auc_score(y_train, model.predict(X_train))\n",
    "test_score = roc_auc_score(y_test, model.predict(X_test))\n",
    "print(\"train score : %f, test score : %f\"%(train_score, test_score))"
   ]
  },
  {
   "cell_type": "markdown",
   "metadata": {},
   "source": [
    "<p>\n",
    "    By computing a new feature and by encoding the feature <code>Country</code> we significantly improved the performance of the model.\n",
    "</p>"
   ]
  },
  {
   "cell_type": "markdown",
   "metadata": {},
   "source": [
    "<hr>\n",
    "<h1 style=\"text-align:center; color:orange\">YOUR TURN</h1>\n",
    "<hr>\n",
    "\n",
    "<b>A] binarize another feature and create a new one ! </b>\n",
    "\n",
    "<b>B] Feature engineering requires a good business knowledge. Look at the age feature. What do you notice ? How can this help you creating a new feature ?</b>"
   ]
  },
  {
   "cell_type": "code",
   "execution_count": null,
   "metadata": {
    "collapsed": true
   },
   "outputs": [],
   "source": []
  }
 ],
 "metadata": {
  "kernelspec": {
   "display_name": "Python 2",
   "language": "python",
   "name": "python2"
  },
  "language_info": {
   "codemirror_mode": {
    "name": "ipython",
    "version": 2
   },
   "file_extension": ".py",
   "mimetype": "text/x-python",
   "name": "python",
   "nbconvert_exporter": "python",
   "pygments_lexer": "ipython2",
   "version": "2.7.8"
  }
 },
 "nbformat": 4,
 "nbformat_minor": 2
}
