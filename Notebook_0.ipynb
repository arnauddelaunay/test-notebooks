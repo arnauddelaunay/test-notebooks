{
 "cells": [
  {
   "cell_type": "markdown",
   "metadata": {},
   "source": [
    "<img style=\"center\" width=\"300\" src=\"static/images/logo-training.png\" />\n",
    "\n",
    "<h1  style=\"text-align:center\"> Notebook #0 </h1>"
   ]
  },
  {
   "cell_type": "markdown",
   "metadata": {},
   "source": [
    "<h2> How Notebooks work ? </h2>\n",
    "<p>\n",
    "This notebook aims to guide you manipulation of notebooks, which are widly used in the Data Science world !\n",
    "</p>"
   ]
  },
  {
   "cell_type": "markdown",
   "metadata": {},
   "source": [
    "### Code blocks\n",
    "\n",
    "To execute a code block, just hit [Shift]-[Enter]"
   ]
  },
  {
   "cell_type": "code",
   "execution_count": 4,
   "metadata": {
    "ExecuteTime": {
     "end_time": "2020-08-13T12:13:02.003201Z",
     "start_time": "2020-08-13T12:13:01.999626Z"
    }
   },
   "outputs": [
    {
     "name": "stdout",
     "output_type": "stream",
     "text": [
      "This is the output of a code block\n"
     ]
    }
   ],
   "source": [
    "# This is a code block\n",
    "print(\"This is the output of a code block\")"
   ]
  },
  {
   "cell_type": "code",
   "execution_count": 5,
   "metadata": {
    "ExecuteTime": {
     "end_time": "2020-08-13T12:13:02.146269Z",
     "start_time": "2020-08-13T12:13:02.138363Z"
    }
   },
   "outputs": [],
   "source": [
    "# Import a module available in your kernel\n",
    "import numpy as np"
   ]
  },
  {
   "cell_type": "markdown",
   "metadata": {},
   "source": [
    "### Text blocks"
   ]
  },
  {
   "cell_type": "markdown",
   "metadata": {},
   "source": [
    "This is a text block written in _Markdown_"
   ]
  },
  {
   "cell_type": "markdown",
   "metadata": {},
   "source": [
    "<b>This</b> is a text block written in <i>HTML</i>"
   ]
  },
  {
   "cell_type": "markdown",
   "metadata": {},
   "source": [
    "### Some shortcuts"
   ]
  },
  {
   "cell_type": "markdown",
   "metadata": {},
   "source": [
    "- Esc will take you into command mode where you can navigate around your notebook with arrow keys.\n",
    "\n",
    "While in command mode:\n",
    "\n",
    "- A to insert a new cell above the current cell, B to insert a new cell below.\n",
    "- M to change the current cell to Markdown, Y to change it back to code\n",
    "- D + D (press the key twice) to delete the current cell\n",
    "- Enter will take you from command mode back into edit mode for the given cell.\n",
    "- Shift + Tab will show you the Docstring (documentation) for the the object you have just typed in a code cell - you can keep pressing this short cut to cycle through a few modes of documentation.\n",
    "\n",
    "Select Multiple Cells:\n",
    "\n",
    "- Shift + J or Shift + Down selects the next sell in a downwards direction. You can also select sells in an upwards direction by using Shift + K or Shift + Up.\n",
    "\n",
    "Once cells are selected, you can then delete / copy / cut / paste / run them as a batch. This is helpful when you need to move parts of a notebook.\n",
    "\n",
    "- You can also use Shift + M to merge multiple cells."
   ]
  },
  {
   "cell_type": "markdown",
   "metadata": {},
   "source": [
    "<hr>\n",
    "<h1 style=\"text-align:center; color:orange\">YOUR TURN</h1>\n",
    "<hr>"
   ]
  },
  {
   "cell_type": "markdown",
   "metadata": {
    "solution2": "hidden",
    "solution2_first": true
   },
   "source": [
    "<mark><b>Exercice A</b> Create a block and print the result of $\\sqrt{\\pi}$</mark>\n",
    "\n",
    "<blockquote><i> &#9432; <b>Hint</b>\n",
    "    <br>\n",
    "    The module `numpy` gives access to a lot of math operations and constants. You can read the docs for details : \n",
    "    <ul>\n",
    "        <li>Constants : <a href=\"https://docs.scipy.org/doc/numpy/reference/constants.html\">\n",
    "            https://docs.scipy.org/doc/numpy/reference/constants.html</a></li>\n",
    "        <li>Math Functions : <a href=\"https://docs.scipy.org/doc/numpy/reference/routines.math.html\">\n",
    "            https://docs.scipy.org/doc/numpy/reference/routines.math.html</a></li>\n",
    "    </ul>\n",
    "    </i></blockquote> "
   ]
  },
  {
   "cell_type": "code",
   "execution_count": 3,
   "metadata": {
    "ExecuteTime": {
     "end_time": "2020-08-13T12:12:43.319982Z",
     "start_time": "2020-08-13T12:12:43.304280Z"
    }
   },
   "outputs": [
    {
     "data": {
      "text/plain": [
       "1.4142135623730951"
      ]
     },
     "execution_count": 3,
     "metadata": {},
     "output_type": "execute_result"
    }
   ],
   "source": [
    "np.sqrt(2)"
   ]
  },
  {
   "cell_type": "code",
   "execution_count": null,
   "metadata": {
    "ExecuteTime": {
     "end_time": "2019-04-01T22:23:37.490604+02:00",
     "start_time": "2019-04-01T22:23:37.487315Z"
    },
    "solution2": "hidden"
   },
   "outputs": [],
   "source": [
    "print(np.sqrt(np.pi))"
   ]
  }
 ],
 "metadata": {
  "creator": "daoud",
  "kernelspec": {
   "display_name": "Python 3",
   "language": "python",
   "name": "python3"
  },
  "language_info": {
   "codemirror_mode": {
    "name": "ipython",
    "version": 3
   },
   "file_extension": ".py",
   "mimetype": "text/x-python",
   "name": "python",
   "nbconvert_exporter": "python",
   "pygments_lexer": "ipython3",
   "version": "3.6.11"
  },
  "tags": [],
  "toc": {
   "base_numbering": 1,
   "nav_menu": {},
   "number_sections": true,
   "sideBar": true,
   "skip_h1_title": false,
   "title_cell": "Table of Contents",
   "title_sidebar": "Contents",
   "toc_cell": false,
   "toc_position": {},
   "toc_section_display": true,
   "toc_window_display": true
  }
 },
 "nbformat": 4,
 "nbformat_minor": 1
}
